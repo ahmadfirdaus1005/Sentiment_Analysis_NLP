{
 "cells": [
  {
   "cell_type": "markdown",
   "id": "ecc715c1-38db-489a-a5df-e0411bb9c653",
   "metadata": {},
   "source": [
    "# Sentiment Analysis"
   ]
  },
  {
   "cell_type": "markdown",
   "id": "bbd19206-24af-4fd3-8c14-3e818a096334",
   "metadata": {},
   "source": [
    "Sentiment analysis, also known as opinion mining, is a natural language processing (NLP) technique that involves the extraction and analysis of subjective information from text data. It aims to determine the sentiment or emotional tone expressed in a piece of text, such as positive, negative, or neutral.\n",
    "\n",
    "The primary goal of sentiment analysis is to understand and quantify the subjective opinions, attitudes, and emotions expressed by individuals or entities in text data. This can be done at various levels, including document-level sentiment analysis, sentence-level sentiment analysis, or aspect-level sentiment analysis.\n",
    "\n",
    "The dataset used in this case is Twitter US Airline Sentiment, dataset: https://www.kaggle.com/datasets/crowdflower/twitter-airline-sentiment\n",
    "\n",
    "Problem: \n",
    "1. What trend distribution of airline sentiments and distribution of negative reasons, impact on the business.\n",
    "2. Create text classification for future analysis."
   ]
  },
  {
   "cell_type": "markdown",
   "id": "e4b2a31a-085f-4686-bb3f-3aaff61c1a19",
   "metadata": {},
   "source": [
    "# Import Library"
   ]
  },
  {
   "cell_type": "code",
   "execution_count": 1,
   "id": "5e955b59-5b57-4ff3-b065-883c5cb399ab",
   "metadata": {},
   "outputs": [],
   "source": [
    "import os\n",
    "import re\n",
    "import numpy as np\n",
    "import pandas as pd\n",
    "import matplotlib.pyplot as plt\n",
    "import seaborn as sns; sns.set()"
   ]
  },
  {
   "cell_type": "code",
   "execution_count": 2,
   "id": "dee7981d-c9bf-40cc-aa17-0bb146a67c60",
   "metadata": {},
   "outputs": [],
   "source": [
    "from nltk.tokenize import word_tokenize\n",
    "from nltk.corpus import stopwords"
   ]
  },
  {
   "cell_type": "code",
   "execution_count": 3,
   "id": "1e509122-7aa9-46f4-9018-94fc785a50ff",
   "metadata": {},
   "outputs": [],
   "source": [
    "from sklearn.preprocessing import OneHotEncoder\n",
    "from sklearn.model_selection import train_test_split\n",
    "from sklearn.metrics import confusion_matrix, f1_score, classification_report"
   ]
  },
  {
   "cell_type": "code",
   "execution_count": 48,
   "id": "7f7e7b4c-39f2-4484-92f4-fc056d91c765",
   "metadata": {},
   "outputs": [
    {
     "name": "stdout",
     "output_type": "stream",
     "text": [
      "Requirement already satisfied: imbalanced-learn in c:\\users\\ahmad\\anaconda3_new\\lib\\site-packages (0.10.1)\n",
      "Collecting imbalanced-learn\n",
      "  Downloading imbalanced_learn-0.11.0-py3-none-any.whl (235 kB)\n",
      "     ------------------------------------ 235.6/235.6 kB 655.2 kB/s eta 0:00:00\n",
      "Requirement already satisfied: joblib>=1.1.1 in c:\\users\\ahmad\\anaconda3_new\\lib\\site-packages (from imbalanced-learn) (1.1.1)\n",
      "Requirement already satisfied: numpy>=1.17.3 in c:\\users\\ahmad\\anaconda3_new\\lib\\site-packages (from imbalanced-learn) (1.23.5)\n",
      "Requirement already satisfied: scikit-learn>=1.0.2 in c:\\users\\ahmad\\anaconda3_new\\lib\\site-packages (from imbalanced-learn) (1.3.0)\n",
      "Requirement already satisfied: threadpoolctl>=2.0.0 in c:\\users\\ahmad\\anaconda3_new\\lib\\site-packages (from imbalanced-learn) (2.2.0)\n",
      "Requirement already satisfied: scipy>=1.5.0 in c:\\users\\ahmad\\anaconda3_new\\lib\\site-packages (from imbalanced-learn) (1.10.0)\n",
      "Installing collected packages: imbalanced-learn\n",
      "  Attempting uninstall: imbalanced-learn\n",
      "    Found existing installation: imbalanced-learn 0.10.1\n",
      "    Uninstalling imbalanced-learn-0.10.1:\n",
      "      Successfully uninstalled imbalanced-learn-0.10.1\n",
      "Successfully installed imbalanced-learn-0.11.0\n"
     ]
    }
   ],
   "source": [
    "# pip install tensorflow\n",
    "# !pip install --upgrade scikit-learn\n",
    "# !pip install --upgrade imbalanced-learn"
   ]
  },
  {
   "cell_type": "code",
   "execution_count": 4,
   "id": "7c5def40-83b2-4324-bf10-1d51abaa4fbb",
   "metadata": {},
   "outputs": [],
   "source": [
    "from tensorflow.keras.preprocessing import sequence\n",
    "from tensorflow.keras.preprocessing.text import Tokenizer\n",
    "from tensorflow.keras.models import Sequential\n",
    "from tensorflow.keras.layers import Dense, LSTM\n",
    "from tensorflow.keras.layers import Embedding\n",
    "from tensorflow.keras.utils import pad_sequences"
   ]
  },
  {
   "cell_type": "code",
   "execution_count": 5,
   "id": "f1c2a344-01c8-470a-8649-7c7616ea2cdc",
   "metadata": {},
   "outputs": [],
   "source": [
    "import warnings\n",
    "warnings.filterwarnings('ignore')"
   ]
  },
  {
   "cell_type": "markdown",
   "id": "d30e1aa4-718e-4134-9b6b-eb5962caae10",
   "metadata": {},
   "source": [
    "# Extract and Load the dataset"
   ]
  },
  {
   "cell_type": "code",
   "execution_count": 6,
   "id": "2b980d7b-b798-4f5e-bb41-429279726e33",
   "metadata": {},
   "outputs": [
    {
     "data": {
      "text/html": [
       "<div>\n",
       "<style scoped>\n",
       "    .dataframe tbody tr th:only-of-type {\n",
       "        vertical-align: middle;\n",
       "    }\n",
       "\n",
       "    .dataframe tbody tr th {\n",
       "        vertical-align: top;\n",
       "    }\n",
       "\n",
       "    .dataframe thead th {\n",
       "        text-align: right;\n",
       "    }\n",
       "</style>\n",
       "<table border=\"1\" class=\"dataframe\">\n",
       "  <thead>\n",
       "    <tr style=\"text-align: right;\">\n",
       "      <th></th>\n",
       "      <th>tweet_id</th>\n",
       "      <th>airline_sentiment</th>\n",
       "      <th>airline_sentiment_confidence</th>\n",
       "      <th>negativereason</th>\n",
       "      <th>negativereason_confidence</th>\n",
       "      <th>airline</th>\n",
       "      <th>airline_sentiment_gold</th>\n",
       "      <th>name</th>\n",
       "      <th>negativereason_gold</th>\n",
       "      <th>retweet_count</th>\n",
       "      <th>text</th>\n",
       "      <th>tweet_coord</th>\n",
       "      <th>tweet_created</th>\n",
       "      <th>tweet_location</th>\n",
       "      <th>user_timezone</th>\n",
       "    </tr>\n",
       "  </thead>\n",
       "  <tbody>\n",
       "    <tr>\n",
       "      <th>0</th>\n",
       "      <td>570306133677760513</td>\n",
       "      <td>neutral</td>\n",
       "      <td>1.0000</td>\n",
       "      <td>NaN</td>\n",
       "      <td>NaN</td>\n",
       "      <td>Virgin America</td>\n",
       "      <td>NaN</td>\n",
       "      <td>cairdin</td>\n",
       "      <td>NaN</td>\n",
       "      <td>0</td>\n",
       "      <td>@VirginAmerica What @dhepburn said.</td>\n",
       "      <td>NaN</td>\n",
       "      <td>2015-02-24 11:35:52 -0800</td>\n",
       "      <td>NaN</td>\n",
       "      <td>Eastern Time (US &amp; Canada)</td>\n",
       "    </tr>\n",
       "    <tr>\n",
       "      <th>1</th>\n",
       "      <td>570301130888122368</td>\n",
       "      <td>positive</td>\n",
       "      <td>0.3486</td>\n",
       "      <td>NaN</td>\n",
       "      <td>0.0</td>\n",
       "      <td>Virgin America</td>\n",
       "      <td>NaN</td>\n",
       "      <td>jnardino</td>\n",
       "      <td>NaN</td>\n",
       "      <td>0</td>\n",
       "      <td>@VirginAmerica plus you've added commercials t...</td>\n",
       "      <td>NaN</td>\n",
       "      <td>2015-02-24 11:15:59 -0800</td>\n",
       "      <td>NaN</td>\n",
       "      <td>Pacific Time (US &amp; Canada)</td>\n",
       "    </tr>\n",
       "    <tr>\n",
       "      <th>2</th>\n",
       "      <td>570301083672813571</td>\n",
       "      <td>neutral</td>\n",
       "      <td>0.6837</td>\n",
       "      <td>NaN</td>\n",
       "      <td>NaN</td>\n",
       "      <td>Virgin America</td>\n",
       "      <td>NaN</td>\n",
       "      <td>yvonnalynn</td>\n",
       "      <td>NaN</td>\n",
       "      <td>0</td>\n",
       "      <td>@VirginAmerica I didn't today... Must mean I n...</td>\n",
       "      <td>NaN</td>\n",
       "      <td>2015-02-24 11:15:48 -0800</td>\n",
       "      <td>Lets Play</td>\n",
       "      <td>Central Time (US &amp; Canada)</td>\n",
       "    </tr>\n",
       "  </tbody>\n",
       "</table>\n",
       "</div>"
      ],
      "text/plain": [
       "             tweet_id airline_sentiment  airline_sentiment_confidence  \\\n",
       "0  570306133677760513           neutral                        1.0000   \n",
       "1  570301130888122368          positive                        0.3486   \n",
       "2  570301083672813571           neutral                        0.6837   \n",
       "\n",
       "  negativereason  negativereason_confidence         airline  \\\n",
       "0            NaN                        NaN  Virgin America   \n",
       "1            NaN                        0.0  Virgin America   \n",
       "2            NaN                        NaN  Virgin America   \n",
       "\n",
       "  airline_sentiment_gold        name negativereason_gold  retweet_count  \\\n",
       "0                    NaN     cairdin                 NaN              0   \n",
       "1                    NaN    jnardino                 NaN              0   \n",
       "2                    NaN  yvonnalynn                 NaN              0   \n",
       "\n",
       "                                                text tweet_coord  \\\n",
       "0                @VirginAmerica What @dhepburn said.         NaN   \n",
       "1  @VirginAmerica plus you've added commercials t...         NaN   \n",
       "2  @VirginAmerica I didn't today... Must mean I n...         NaN   \n",
       "\n",
       "               tweet_created tweet_location               user_timezone  \n",
       "0  2015-02-24 11:35:52 -0800            NaN  Eastern Time (US & Canada)  \n",
       "1  2015-02-24 11:15:59 -0800            NaN  Pacific Time (US & Canada)  \n",
       "2  2015-02-24 11:15:48 -0800      Lets Play  Central Time (US & Canada)  "
      ]
     },
     "execution_count": 6,
     "metadata": {},
     "output_type": "execute_result"
    }
   ],
   "source": [
    "# reading the dataset\n",
    "df = pd.read_csv(\"Tweets.csv\")\n",
    "df.head(3)"
   ]
  },
  {
   "cell_type": "code",
   "execution_count": 8,
   "id": "2097fe97-240a-499b-9cda-4a264a825fb2",
   "metadata": {},
   "outputs": [
    {
     "data": {
      "text/plain": [
       "Index(['tweet_id', 'airline_sentiment', 'airline_sentiment_confidence',\n",
       "       'negativereason', 'negativereason_confidence', 'airline',\n",
       "       'airline_sentiment_gold', 'name', 'negativereason_gold',\n",
       "       'retweet_count', 'text', 'tweet_coord', 'tweet_created',\n",
       "       'tweet_location', 'user_timezone'],\n",
       "      dtype='object')"
      ]
     },
     "execution_count": 8,
     "metadata": {},
     "output_type": "execute_result"
    }
   ],
   "source": [
    "df.columns"
   ]
  },
  {
   "cell_type": "markdown",
   "id": "0e169e0e-e762-4755-870c-ded9be2515a0",
   "metadata": {},
   "source": [
    "# Exploration data analysis\n",
    "\n",
    "at this stage,we want to answer the distribution of sentiments, distribution of negative reasons, and which airlines had most negative and positive lebels"
   ]
  },
  {
   "cell_type": "code",
   "execution_count": 9,
   "id": "8ced9254-7c8c-440b-8a6a-1f5cab1e9e40",
   "metadata": {},
   "outputs": [
    {
     "data": {
      "image/png": "[encoded data removed]",
      "text/plain": [
       "<Figure size 800x600 with 1 Axes>"
      ]
     },
     "metadata": {},
     "output_type": "display_data"
    }
   ],
   "source": [
    "# Count the occurrences of each sentiment\n",
    "sentiment_counts = df['airline_sentiment'].value_counts()\n",
    "\n",
    "# Plot the distribution of sentiments\n",
    "colors = ['#FF7373', '#6ECB63', '#FAC05E']\n",
    "plt.figure(figsize=(8, 6))\n",
    "sentiment_counts.plot(kind='bar', color=colors)\n",
    "plt.title('Distribution of Sentiments')\n",
    "plt.xlabel('Sentiment')\n",
    "plt.ylabel('Count')\n",
    "\n",
    "plt.show()"
   ]
  },
  {
   "cell_type": "markdown",
   "id": "1ed51451-d0b3-4c5a-a780-ab0f5cb46ab5",
   "metadata": {},
   "source": [
    "The given data represents sentiment labels associated with a collection of tweets. The dataset exhibits a significant class imbalance, with the majority class being negative sentiment, followed by neutral and positive sentiment. Let's provide a more detailed description:\n",
    "\n",
    "- Negative: The dataset contains 9,178 instances (approximately 61.5% of the total data) labeled as negative sentiment. These tweets likely express dissatisfaction, criticism, or negative opinions regarding a particular topic, such as an airline. The large number of negative tweets indicates that there is a substantial presence of negative sentiment in the dataset.\n",
    "\n",
    "- Neutral: There are 3,099 instances (approximately 20.7% of the total data) labeled as neutral sentiment. Tweets in this category generally lack strong positive or negative emotions. They may contain factual information, general statements, or opinions without significant emotional tone. However, it is worth noting that the number of neutral tweets is significantly lower than negative tweets, further emphasizing the class imbalance.\n",
    "\n",
    "- Positive: The dataset includes 2,363 instances (approximately 15.8% of the total data) labeled as positive sentiment. These tweets express positive emotions, satisfaction, or praise towards a specific topic, such as an airline or a related experience. Similar to the neutral class, the number of positive tweets is substantially lower than negative sentiment tweets."
   ]
  },
  {
   "cell_type": "code",
   "execution_count": 65,
   "id": "035d7a1e-cf2e-44f8-afa2-057f091f912d",
   "metadata": {},
   "outputs": [
    {
     "data": {
      "image/png": "[encoded data removed]",
      "text/plain": [
       "<Figure size 1000x600 with 1 Axes>"
      ]
     },
     "metadata": {},
     "output_type": "display_data"
    }
   ],
   "source": [
    "# Filter out rows with negative reasons\n",
    "negative_reasons = df['negativereason'].dropna()\n",
    "\n",
    "# Count the occurrences of each negative reason\n",
    "reason_counts = negative_reasons.value_counts()\n",
    "\n",
    "# Plot the distribution of negative reasons\n",
    "colors2 = plt.cm.Set2(range(len(reason_counts)))\n",
    "plt.figure(figsize=(10, 6))\n",
    "reason_counts.plot(kind='bar', color=colors2)\n",
    "plt.title('Distribution of Negative Reasons')\n",
    "plt.xlabel('Negative Reason')\n",
    "plt.ylabel('Count')\n",
    "# plt.xticks(rotation=45)\n",
    "plt.show()"
   ]
  },
  {
   "cell_type": "markdown",
   "id": "46e422e9-87f9-4e15-bcc3-c5d76e85aee8",
   "metadata": {},
   "source": [
    "The distribution of US airline sentiment categories is as follows:\n",
    "\n",
    "- Customer Service Issue: 29.1% of the total data. Improving customer service interactions and addressing customer concerns should be a priority for the airline.\n",
    "\n",
    "- Late Flight: 16.6% of the total data. Addressing flight punctuality and minimizing delays is crucial for improving customer satisfaction.\n",
    "\n",
    "- Can't Tell: 11.9% of the total data. Further analysis is needed to gain insights from this category of ambiguous or indeterminate tweets.\n",
    "\n",
    "- Cancelled Flight: 8.5% of the total data. Addressing flight cancellations and minimizing disruptions is essential for enhancing customer satisfaction.\n",
    "\n",
    "- Lost Luggage: 7.2% of the total data. Improving baggage handling processes and ensuring timely delivery is important for customer satisfaction.\n",
    "\n",
    "- Bad Flight: 5.8% of the total data. Enhancing the overall flight experience and addressing in-flight issues promptly can improve customer satisfaction.\n",
    "\n",
    "- Flight Booking Problems: 5.3% of the total data. Streamlining the booking process and addressing customer concerns can enhance the customer experience.\n",
    "\n",
    "- Flight Attendant Complaints: 4.8% of the total data. Ensuring professional behavior and providing excellent service contributes to customer satisfaction.\n",
    "\n",
    "- Longlines: 1.8% of the total data. Minimizing waiting times and providing efficient assistance can improve the customer experience.\n",
    "\n",
    "- Damaged Luggage: 0.7% of the total data. Implementing proper handling procedures and resolving luggage issues promptly can enhance customer satisfaction.\n",
    "\n",
    "Understanding these sentiment categories can help airlines identify areas for improvement. By addressing customer service issues, flight punctuality, baggage handling, and other key concerns, airlines can enhance customer satisfaction, build brand reputation, and foster long-term customer loyalty."
   ]
  },
  {
   "cell_type": "code",
   "execution_count": 69,
   "id": "2d36aa71-c298-48e3-9e93-a597e18c2349",
   "metadata": {},
   "outputs": [
    {
     "data": {
      "image/png": "[encoded data removed]",
      "text/plain": [
       "<Figure size 1000x600 with 1 Axes>"
      ]
     },
     "metadata": {},
     "output_type": "display_data"
    }
   ],
   "source": [
    "# craete group airline senyiment by airline name\n",
    "grouped_airline = df.groupby(['airline', 'airline_sentiment']).size().reset_index(name='count')\n",
    "\n",
    "plt.figure(figsize=(10, 6))\n",
    "sns.barplot(data=grouped_airline, x='airline', y='count', hue='airline_sentiment')\n",
    "plt.title('Airline Sentiment by Airline')\n",
    "plt.xlabel('Airline')\n",
    "plt.ylabel('Count')\n",
    "# plt.xticks(rotation=45)\n",
    "plt.show()"
   ]
  },
  {
   "cell_type": "code",
   "execution_count": 70,
   "id": "107dbf01-0d47-429b-84c0-43a5c9a87654",
   "metadata": {},
   "outputs": [
    {
     "data": {
      "text/html": [
       "<div>\n",
       "<style scoped>\n",
       "    .dataframe tbody tr th:only-of-type {\n",
       "        vertical-align: middle;\n",
       "    }\n",
       "\n",
       "    .dataframe tbody tr th {\n",
       "        vertical-align: top;\n",
       "    }\n",
       "\n",
       "    .dataframe thead th {\n",
       "        text-align: right;\n",
       "    }\n",
       "</style>\n",
       "<table border=\"1\" class=\"dataframe\">\n",
       "  <thead>\n",
       "    <tr style=\"text-align: right;\">\n",
       "      <th></th>\n",
       "      <th>airline</th>\n",
       "      <th>airline_sentiment</th>\n",
       "      <th>count</th>\n",
       "    </tr>\n",
       "  </thead>\n",
       "  <tbody>\n",
       "    <tr>\n",
       "      <th>0</th>\n",
       "      <td>American</td>\n",
       "      <td>negative</td>\n",
       "      <td>1960</td>\n",
       "    </tr>\n",
       "    <tr>\n",
       "      <th>1</th>\n",
       "      <td>American</td>\n",
       "      <td>neutral</td>\n",
       "      <td>463</td>\n",
       "    </tr>\n",
       "    <tr>\n",
       "      <th>2</th>\n",
       "      <td>American</td>\n",
       "      <td>positive</td>\n",
       "      <td>336</td>\n",
       "    </tr>\n",
       "    <tr>\n",
       "      <th>3</th>\n",
       "      <td>Delta</td>\n",
       "      <td>negative</td>\n",
       "      <td>955</td>\n",
       "    </tr>\n",
       "    <tr>\n",
       "      <th>4</th>\n",
       "      <td>Delta</td>\n",
       "      <td>neutral</td>\n",
       "      <td>723</td>\n",
       "    </tr>\n",
       "    <tr>\n",
       "      <th>5</th>\n",
       "      <td>Delta</td>\n",
       "      <td>positive</td>\n",
       "      <td>544</td>\n",
       "    </tr>\n",
       "    <tr>\n",
       "      <th>6</th>\n",
       "      <td>Southwest</td>\n",
       "      <td>negative</td>\n",
       "      <td>1186</td>\n",
       "    </tr>\n",
       "    <tr>\n",
       "      <th>7</th>\n",
       "      <td>Southwest</td>\n",
       "      <td>neutral</td>\n",
       "      <td>664</td>\n",
       "    </tr>\n",
       "    <tr>\n",
       "      <th>8</th>\n",
       "      <td>Southwest</td>\n",
       "      <td>positive</td>\n",
       "      <td>570</td>\n",
       "    </tr>\n",
       "    <tr>\n",
       "      <th>9</th>\n",
       "      <td>US Airways</td>\n",
       "      <td>negative</td>\n",
       "      <td>2263</td>\n",
       "    </tr>\n",
       "    <tr>\n",
       "      <th>10</th>\n",
       "      <td>US Airways</td>\n",
       "      <td>neutral</td>\n",
       "      <td>381</td>\n",
       "    </tr>\n",
       "    <tr>\n",
       "      <th>11</th>\n",
       "      <td>US Airways</td>\n",
       "      <td>positive</td>\n",
       "      <td>269</td>\n",
       "    </tr>\n",
       "    <tr>\n",
       "      <th>12</th>\n",
       "      <td>United</td>\n",
       "      <td>negative</td>\n",
       "      <td>2633</td>\n",
       "    </tr>\n",
       "    <tr>\n",
       "      <th>13</th>\n",
       "      <td>United</td>\n",
       "      <td>neutral</td>\n",
       "      <td>697</td>\n",
       "    </tr>\n",
       "    <tr>\n",
       "      <th>14</th>\n",
       "      <td>United</td>\n",
       "      <td>positive</td>\n",
       "      <td>492</td>\n",
       "    </tr>\n",
       "    <tr>\n",
       "      <th>15</th>\n",
       "      <td>Virgin America</td>\n",
       "      <td>negative</td>\n",
       "      <td>181</td>\n",
       "    </tr>\n",
       "    <tr>\n",
       "      <th>16</th>\n",
       "      <td>Virgin America</td>\n",
       "      <td>neutral</td>\n",
       "      <td>171</td>\n",
       "    </tr>\n",
       "    <tr>\n",
       "      <th>17</th>\n",
       "      <td>Virgin America</td>\n",
       "      <td>positive</td>\n",
       "      <td>152</td>\n",
       "    </tr>\n",
       "  </tbody>\n",
       "</table>\n",
       "</div>"
      ],
      "text/plain": [
       "           airline airline_sentiment  count\n",
       "0         American          negative   1960\n",
       "1         American           neutral    463\n",
       "2         American          positive    336\n",
       "3            Delta          negative    955\n",
       "4            Delta           neutral    723\n",
       "5            Delta          positive    544\n",
       "6        Southwest          negative   1186\n",
       "7        Southwest           neutral    664\n",
       "8        Southwest          positive    570\n",
       "9       US Airways          negative   2263\n",
       "10      US Airways           neutral    381\n",
       "11      US Airways          positive    269\n",
       "12          United          negative   2633\n",
       "13          United           neutral    697\n",
       "14          United          positive    492\n",
       "15  Virgin America          negative    181\n",
       "16  Virgin America           neutral    171\n",
       "17  Virgin America          positive    152"
      ]
     },
     "execution_count": 70,
     "metadata": {},
     "output_type": "execute_result"
    }
   ],
   "source": [
    "grouped_airline "
   ]
  },
  {
   "cell_type": "markdown",
   "id": "2d39c131-6a6c-432b-8030-f700cbe4b17b",
   "metadata": {},
   "source": [
    "the most negative tweets and most positive tweets:\n",
    "- American Airlines: 44.9% negative tweets, 10.6% neutral tweets, and 7.7% positive tweets.\n",
    "- Delta Airlines: 22.7% negative tweets, 17.2% neutral tweets, and 12.9% positive tweets.\n",
    "- Southwest Airlines: 29.9% negative tweets, 16.8% neutral tweets, and 14.4% positive tweets.\n",
    "- US Airways: 45.7% negative tweets, 7.7% neutral tweets, and 5.5% positive tweets.\n",
    "- United Airlines: 51.3% negative tweets, 13.6% neutral tweets, and 9.6% positive tweets.\n",
    "- Virgin America: 25.1% negative tweets, 23.7% neutral tweets, and 21.0% positive tweets.\n",
    "\n",
    "Based on the percentages, United Airlines has the highest percentage of negative tweets, while Virgin America has the highest positive percentage. However, it is important to note that the sentiment distribution may vary across airlines due to factors such as customer base, service quality, and overall reputation.\n",
    "\n",
    "Impact on the airlines overview:\n",
    "\n",
    "The data reveals that all airlines have a significant number of negative tweets, with American Airlines, US Airways, and United Airlines having the highest percentages. This indicates potential areas for improvement in customer experiences and services across the industry. Negative sentiments can impact the overall perception of an airline's brand and affect customer satisfaction and loyalty. It is crucial for airlines to address these concerns by focusing on enhancing customer service interactions, flight punctuality, baggage handling processes, and resolving customer issues promptly. By actively working towards reducing negative sentiments, airlines can improve their brand reputation, foster positive customer experiences, and ultimately increase customer satisfaction and loyalty.\n",
    "\n",
    "While negative sentiments are prominent, positive tweets are also present across all airlines. Enhancing positive experiences and customer satisfaction can further contribute to building a strong brand image and customer loyalty. Airlines can achieve this by recognizing and acknowledging positive feedback, delivering exceptional service, and consistently meeting or exceeding customer expectations.\n",
    "\n",
    "Overall, by addressing negative sentiments and promoting positive experiences, airlines can positively impact their overview, customer perception, and long-term business success."
   ]
  },
  {
   "cell_type": "code",
   "execution_count": 7,
   "id": "76b6bf96-322a-4a56-ae9e-44f82bf6e150",
   "metadata": {},
   "outputs": [
    {
     "data": {
      "text/html": [
       "<div>\n",
       "<style scoped>\n",
       "    .dataframe tbody tr th:only-of-type {\n",
       "        vertical-align: middle;\n",
       "    }\n",
       "\n",
       "    .dataframe tbody tr th {\n",
       "        vertical-align: top;\n",
       "    }\n",
       "\n",
       "    .dataframe thead th {\n",
       "        text-align: right;\n",
       "    }\n",
       "</style>\n",
       "<table border=\"1\" class=\"dataframe\">\n",
       "  <thead>\n",
       "    <tr style=\"text-align: right;\">\n",
       "      <th></th>\n",
       "      <th>tweet_id</th>\n",
       "      <th>airline_sentiment</th>\n",
       "      <th>airline</th>\n",
       "      <th>text</th>\n",
       "    </tr>\n",
       "  </thead>\n",
       "  <tbody>\n",
       "    <tr>\n",
       "      <th>0</th>\n",
       "      <td>570306133677760513</td>\n",
       "      <td>neutral</td>\n",
       "      <td>Virgin America</td>\n",
       "      <td>@VirginAmerica What @dhepburn said.</td>\n",
       "    </tr>\n",
       "    <tr>\n",
       "      <th>1</th>\n",
       "      <td>570301130888122368</td>\n",
       "      <td>positive</td>\n",
       "      <td>Virgin America</td>\n",
       "      <td>@VirginAmerica plus you've added commercials t...</td>\n",
       "    </tr>\n",
       "    <tr>\n",
       "      <th>2</th>\n",
       "      <td>570301083672813571</td>\n",
       "      <td>neutral</td>\n",
       "      <td>Virgin America</td>\n",
       "      <td>@VirginAmerica I didn't today... Must mean I n...</td>\n",
       "    </tr>\n",
       "  </tbody>\n",
       "</table>\n",
       "</div>"
      ],
      "text/plain": [
       "             tweet_id airline_sentiment         airline  \\\n",
       "0  570306133677760513           neutral  Virgin America   \n",
       "1  570301130888122368          positive  Virgin America   \n",
       "2  570301083672813571           neutral  Virgin America   \n",
       "\n",
       "                                                text  \n",
       "0                @VirginAmerica What @dhepburn said.  \n",
       "1  @VirginAmerica plus you've added commercials t...  \n",
       "2  @VirginAmerica I didn't today... Must mean I n...  "
      ]
     },
     "execution_count": 7,
     "metadata": {},
     "output_type": "execute_result"
    }
   ],
   "source": [
    "data = df[['tweet_id', 'airline_sentiment','airline','text']]\n",
    "data.head(3)"
   ]
  },
  {
   "cell_type": "code",
   "execution_count": 8,
   "id": "879b591b-8ea5-4fe6-92d5-f5113594bce7",
   "metadata": {},
   "outputs": [
    {
     "name": "stdout",
     "output_type": "stream",
     "text": [
      "<class 'pandas.core.frame.DataFrame'>\n",
      "RangeIndex: 14640 entries, 0 to 14639\n",
      "Data columns (total 4 columns):\n",
      " #   Column             Non-Null Count  Dtype \n",
      "---  ------             --------------  ----- \n",
      " 0   tweet_id           14640 non-null  int64 \n",
      " 1   airline_sentiment  14640 non-null  object\n",
      " 2   airline            14640 non-null  object\n",
      " 3   text               14640 non-null  object\n",
      "dtypes: int64(1), object(3)\n",
      "memory usage: 457.6+ KB\n"
     ]
    }
   ],
   "source": [
    "data.info()"
   ]
  },
  {
   "cell_type": "markdown",
   "id": "57adbce8-c2d7-44ed-a214-7ee4fa08f6a9",
   "metadata": {},
   "source": [
    "# Handling imbalanced data"
   ]
  },
  {
   "cell_type": "code",
   "execution_count": 9,
   "id": "4f3bff0a-5125-4a32-ba66-51369342dcd2",
   "metadata": {},
   "outputs": [
    {
     "data": {
      "text/plain": [
       "negative    9178\n",
       "neutral     3099\n",
       "positive    2363\n",
       "Name: airline_sentiment, dtype: int64"
      ]
     },
     "execution_count": 9,
     "metadata": {},
     "output_type": "execute_result"
    }
   ],
   "source": [
    "data['airline_sentiment'].value_counts()"
   ]
  },
  {
   "cell_type": "markdown",
   "id": "181483c5-edd2-4abd-a670-00cb989bcbb3",
   "metadata": {},
   "source": [
    "as we can see that the label is imbalance, it's need to be balanced in order to model can learn in fair"
   ]
  },
  {
   "cell_type": "code",
   "execution_count": 10,
   "id": "2c4823cb-5ee6-4665-afc4-c8d167067dfb",
   "metadata": {},
   "outputs": [],
   "source": [
    "from imblearn.under_sampling import RandomUnderSampler"
   ]
  },
  {
   "cell_type": "code",
   "execution_count": 12,
   "id": "1a8d8481-e19c-4fd8-8321-0b6278fa9339",
   "metadata": {},
   "outputs": [
    {
     "name": "stdout",
     "output_type": "stream",
     "text": [
      "neutral     3099\n",
      "negative    2363\n",
      "positive    2363\n",
      "Name: airline_sentiment, dtype: int64\n"
     ]
    }
   ],
   "source": [
    "from imblearn.under_sampling import RandomUnderSampler\n",
    "\n",
    "# Separate features and target variable\n",
    "features = data.drop('airline_sentiment', axis=1)\n",
    "target = data['airline_sentiment']\n",
    "\n",
    "# Perform undersampling\n",
    "undersampler = RandomUnderSampler(sampling_strategy='majority', random_state=42)\n",
    "features_balanced, target_balanced = undersampler.fit_resample(features, target)\n",
    "\n",
    "print(target_balanced.value_counts())"
   ]
  },
  {
   "cell_type": "markdown",
   "id": "38de8ea2-90e2-4eb8-827f-f60d7a75ad9a",
   "metadata": {},
   "source": [
    "now, the data should be balanced, eventhough neatral got more data than other two labels"
   ]
  },
  {
   "cell_type": "code",
   "execution_count": 13,
   "id": "3a8490ea-03e7-4fbc-8808-a2a7625d55d8",
   "metadata": {},
   "outputs": [
    {
     "name": "stdout",
     "output_type": "stream",
     "text": [
      "<class 'pandas.core.frame.DataFrame'>\n",
      "Int64Index: 7825 entries, 1151 to 14635\n",
      "Data columns (total 4 columns):\n",
      " #   Column             Non-Null Count  Dtype \n",
      "---  ------             --------------  ----- \n",
      " 0   tweet_id           7825 non-null   int64 \n",
      " 1   airline            7825 non-null   object\n",
      " 2   text               7825 non-null   object\n",
      " 3   airline_sentiment  7825 non-null   object\n",
      "dtypes: int64(1), object(3)\n",
      "memory usage: 305.7+ KB\n"
     ]
    }
   ],
   "source": [
    "# Combine features_balanced and target_balanced into a single DataFrame\n",
    "balanced_data = pd.concat([features_balanced, target_balanced], axis=1)\n",
    "balanced_data.info()"
   ]
  },
  {
   "cell_type": "markdown",
   "id": "ddadaae5-4c1f-4c72-8ded-8453c18e79f6",
   "metadata": {},
   "source": [
    "# Cleaning data"
   ]
  },
  {
   "cell_type": "markdown",
   "id": "324ec37a-44ee-48eb-8889-8d9f9e1e83f0",
   "metadata": {},
   "source": [
    "## Missing value"
   ]
  },
  {
   "cell_type": "code",
   "execution_count": 14,
   "id": "78761da3-eee0-4958-b5cf-f97826730de4",
   "metadata": {},
   "outputs": [
    {
     "name": "stdout",
     "output_type": "stream",
     "text": [
      "Total null: 0\n"
     ]
    }
   ],
   "source": [
    "# Check Null values\n",
    "total_null = balanced_data['text'].isnull().sum()\n",
    "print(f'Total null: {total_null}')"
   ]
  },
  {
   "cell_type": "markdown",
   "id": "db369f11-edf3-4b9b-a992-64c5d4341b6b",
   "metadata": {},
   "source": [
    "## Text into Numpay"
   ]
  },
  {
   "cell_type": "code",
   "execution_count": 15,
   "id": "2eecc6dc-aba4-472f-87a6-e03b04a19f9a",
   "metadata": {},
   "outputs": [],
   "source": [
    "# Change series into numpy array\n",
    "all_texts = balanced_data['text'].to_numpy()"
   ]
  },
  {
   "cell_type": "code",
   "execution_count": 16,
   "id": "f22db822-9e10-4ad2-9e75-19bdc7e7b38b",
   "metadata": {},
   "outputs": [
    {
     "data": {
      "text/plain": [
       "array(['@united gate C 24 IAD. U released passengers to board w/others deplaning .50 peopleOn bridge while next flight  board http://t.co/HfoF33iyhi',\n",
       "       \"@USAirways 1729 connecting in charlotte to houston. Mechanical issue determined while q'd to take off. And we checked our bags.\",\n",
       "       \"@united installed and working are not the same. Kicked me out after an hour and wouldn't let me back in. Four wasted hours.\",\n",
       "       ...,\n",
       "       'Thank you. “@AmericanAir: @jlhalldc Customer Relations will review your concerns and contact you back directly, John.”',\n",
       "       '@AmericanAir Thanks! He is.',\n",
       "       '@AmericanAir thank you we got on a different flight to Chicago.'],\n",
       "      dtype=object)"
      ]
     },
     "execution_count": 16,
     "metadata": {},
     "output_type": "execute_result"
    }
   ],
   "source": [
    "all_texts"
   ]
  },
  {
   "cell_type": "markdown",
   "id": "927b3c49-b81b-4eaf-8c16-6d51335a6478",
   "metadata": {},
   "source": [
    "## Cleaning text from numbers and symbols"
   ]
  },
  {
   "cell_type": "code",
   "execution_count": 17,
   "id": "7d916237-3e5a-46f2-8d51-aefd03b8073e",
   "metadata": {},
   "outputs": [],
   "source": [
    "# Importing stopwords list\n",
    "stop_words =  set(stopwords.words('english'))\n",
    "\n",
    "# Define a function to clean a text\n",
    "def clean(text):\n",
    "    # text = text.str(text) for text in text\n",
    "    # Lowering letters\n",
    "    text = str(text).lower()\n",
    "    # Removing html tags\n",
    "    text = re.sub('<[^>]*>', '', text)\n",
    "    # Removing emails\n",
    "    text = re.sub('\\S*@\\S*\\s?', '', text)\n",
    "    # Removing urls\n",
    "    text = re.sub('https?://[A-Za-z0-9]','',text)\n",
    "    # Removing numbers\n",
    "    text = re.sub('[^a-zA-Z]',' ',text)\n",
    "    word_tokens = word_tokenize(text)    \n",
    "    filtered_sentence = []\n",
    "    for word_token in word_tokens:\n",
    "        if word_token not in stop_words:\n",
    "            filtered_sentence.append(word_token)\n",
    "    \n",
    "    # Joining words\n",
    "    text = (' '.join(filtered_sentence))\n",
    "    return text"
   ]
  },
  {
   "cell_type": "code",
   "execution_count": 18,
   "id": "6d4cc7ff-9bde-4c85-a01a-5033e7d457c6",
   "metadata": {},
   "outputs": [],
   "source": [
    "# Clean all texts\n",
    "all_cleaned_texts = np.array([clean(text) for text in all_texts])"
   ]
  },
  {
   "cell_type": "markdown",
   "id": "e4cf4321-9446-4f98-83ab-54eb2c42f1ef",
   "metadata": {},
   "source": [
    "## Encoding text "
   ]
  },
  {
   "cell_type": "code",
   "execution_count": 19,
   "id": "7e0bafed-990b-4364-81de-36a199847fc0",
   "metadata": {},
   "outputs": [],
   "source": [
    "# Create word-to-number mapping\n",
    "tokenizer = Tokenizer()\n",
    "tokenizer.fit_on_texts(all_cleaned_texts)"
   ]
  },
  {
   "cell_type": "code",
   "execution_count": 20,
   "id": "b1bf50f5-2a19-498b-aff9-b962139c4ccc",
   "metadata": {},
   "outputs": [],
   "source": [
    "# Encode all words into numbers\n",
    "all_encoded_texts = tokenizer.texts_to_sequences(all_cleaned_texts)\n",
    "all_encoded_texts = np.array(all_encoded_texts)"
   ]
  },
  {
   "cell_type": "code",
   "execution_count": 21,
   "id": "fc4c8c85-665e-479c-837e-3857f9b57ec0",
   "metadata": {},
   "outputs": [
    {
     "name": "stdout",
     "output_type": "stream",
     "text": [
      "Length of file 0 : 18\n",
      "Length of file 1 : 10\n",
      "Length of file 2 : 9\n",
      "Length of file 3 : 11\n",
      "Length of file 4 : 12\n"
     ]
    }
   ],
   "source": [
    "# Checking the length of the first 5 files\n",
    "for i in range(5):\n",
    "    print('Length of file', i, ':', len(all_encoded_texts[i]))"
   ]
  },
  {
   "cell_type": "code",
   "execution_count": 47,
   "id": "13b9de51-e5db-4788-924e-7819a898d5a4",
   "metadata": {},
   "outputs": [],
   "source": [
    "# Ensure that all files are having the exact same length. \n",
    "all_encoded_texts = pad_sequences(all_encoded_texts, maxlen=100)"
   ]
  },
  {
   "cell_type": "markdown",
   "id": "fc38ff35-f1c9-459c-b581-70b01fb0514f",
   "metadata": {},
   "source": [
    "## Encoding labels"
   ]
  },
  {
   "cell_type": "code",
   "execution_count": 48,
   "id": "979c3e64-dbe6-4ae5-9b3b-cd575752e2c6",
   "metadata": {},
   "outputs": [
    {
     "name": "stdout",
     "output_type": "stream",
     "text": [
      "Total labels: 3\n",
      "['negative' 'neutral' 'positive']\n"
     ]
    }
   ],
   "source": [
    "# Calculate total labels\n",
    "total_labels = len(balanced_data['airline_sentiment'].unique())\n",
    "print(f'Total labels: {total_labels}')\n",
    "print(balanced_data['airline_sentiment'].unique())"
   ]
  },
  {
   "cell_type": "code",
   "execution_count": 49,
   "id": "47bb88d3-01b7-48f3-82d8-bcc5d85fce73",
   "metadata": {},
   "outputs": [],
   "source": [
    "# Change labels to array format\n",
    "all_labels = np.array(balanced_data['airline_sentiment'])"
   ]
  },
  {
   "cell_type": "code",
   "execution_count": 50,
   "id": "4d2b7f4e-5183-4b98-9c2b-60cf13c95466",
   "metadata": {},
   "outputs": [],
   "source": [
    "# Create a new axis (this is just the shape expected by OneHotEncoder())\n",
    "all_labels = all_labels[:, np.newaxis]"
   ]
  },
  {
   "cell_type": "code",
   "execution_count": 51,
   "id": "899ed347-3fd4-4275-847e-70520e048fa5",
   "metadata": {},
   "outputs": [],
   "source": [
    "# Convert labels into one-hot representation\n",
    "one_hot_encoder = OneHotEncoder(sparse=False)\n",
    "all_labels = one_hot_encoder.fit_transform(all_labels)"
   ]
  },
  {
   "cell_type": "markdown",
   "id": "77b5f6a2-1687-45c9-bdc2-6b940682e489",
   "metadata": {},
   "source": [
    "# Create model"
   ]
  },
  {
   "cell_type": "code",
   "execution_count": 52,
   "id": "2ea585ad-093d-4013-9714-5c7099a2e05c",
   "metadata": {},
   "outputs": [],
   "source": [
    "# Split the data into train/test\n",
    "X_train, X_test, y_train, y_test = train_test_split(all_encoded_texts, all_labels, test_size=0.2, \n",
    "                                                    random_state=42, stratify=all_labels)"
   ]
  },
  {
   "cell_type": "code",
   "execution_count": 53,
   "id": "ab603db6-5973-4d2f-93bf-e59d33535f2b",
   "metadata": {},
   "outputs": [],
   "source": [
    "# Construct the neural network\n",
    "model = Sequential()\n",
    "model.add(Embedding(input_dim=len(tokenizer.word_index)+1, output_dim=64, input_length=100))\n",
    "model.add(LSTM(100))\n",
    "model.add(Dense(total_labels, activation='sigmoid'))\n",
    "\n",
    "model.compile(loss='categorical_crossentropy', \n",
    "              optimizer='adam',\n",
    "              metrics=['accuracy'])"
   ]
  },
  {
   "cell_type": "code",
   "execution_count": 54,
   "id": "680cd130-bdf8-4dae-b54f-c0afccdbbfa3",
   "metadata": {},
   "outputs": [
    {
     "name": "stdout",
     "output_type": "stream",
     "text": [
      "Epoch 1/4\n",
      "98/98 [==============================] - 10s 90ms/step - loss: 0.9716 - accuracy: 0.5243 - val_loss: 0.7522 - val_accuracy: 0.6658\n",
      "Epoch 2/4\n",
      "98/98 [==============================] - 12s 118ms/step - loss: 0.5360 - accuracy: 0.7919 - val_loss: 0.6589 - val_accuracy: 0.7323\n",
      "Epoch 3/4\n",
      "98/98 [==============================] - 12s 118ms/step - loss: 0.3438 - accuracy: 0.8724 - val_loss: 0.7119 - val_accuracy: 0.7265\n",
      "Epoch 4/4\n",
      "98/98 [==============================] - 11s 115ms/step - loss: 0.2344 - accuracy: 0.9174 - val_loss: 0.7943 - val_accuracy: 0.7201\n"
     ]
    }
   ],
   "source": [
    "# Train the model\n",
    "history = model.fit(X_train, y_train, epochs=4, batch_size=64, validation_data=(X_test, y_test))"
   ]
  },
  {
   "cell_type": "code",
   "execution_count": 55,
   "id": "507fa80e-f9fb-4674-bede-2ae6e7178fb7",
   "metadata": {},
   "outputs": [
    {
     "data": {
      "image/png": "[encoded data removed]",
      "text/plain": [
       "<Figure size 900x700 with 1 Axes>"
      ]
     },
     "metadata": {},
     "output_type": "display_data"
    },
    {
     "data": {
      "image/png": "[encoded data removed]",
      "text/plain": [
       "<Figure size 900x700 with 1 Axes>"
      ]
     },
     "metadata": {},
     "output_type": "display_data"
    }
   ],
   "source": [
    "# Display the training process\n",
    "plt.figure(figsize=(9,7))\n",
    "plt.title('Accuracy score')\n",
    "plt.plot(history.history['accuracy'])\n",
    "plt.plot(history.history['val_accuracy'])\n",
    "plt.legend(['accuracy', 'val_accuracy'])\n",
    "plt.show()\n",
    "\n",
    "plt.figure(figsize=(9,7))\n",
    "plt.title('Loss value')\n",
    "plt.plot(history.history['loss'])\n",
    "plt.plot(history.history['val_loss'])\n",
    "plt.legend(['loss', 'val_loss'])\n",
    "plt.show()"
   ]
  },
  {
   "cell_type": "code",
   "execution_count": 56,
   "id": "bb3479a7-733a-483e-99fd-e38c0e4e3aa3",
   "metadata": {},
   "outputs": [
    {
     "name": "stdout",
     "output_type": "stream",
     "text": [
      "49/49 [==============================] - 1s 10ms/step\n"
     ]
    }
   ],
   "source": [
    "# Predict test data\n",
    "predictions = model.predict(X_test)\n",
    "predictions_evaluate = np.argmax(predictions, axis=1)"
   ]
  },
  {
   "cell_type": "code",
   "execution_count": 57,
   "id": "be9f189c-78f8-4867-9b48-9e64aa5f9007",
   "metadata": {},
   "outputs": [],
   "source": [
    "# Convert y_test (actual label) from one-hot format\n",
    "y_test_evaluate = np.argmax(y_test, axis=1)"
   ]
  },
  {
   "cell_type": "markdown",
   "id": "28d9fab8-9045-4545-97f9-944f0ba874ea",
   "metadata": {},
   "source": [
    "## Classification_report"
   ]
  },
  {
   "cell_type": "code",
   "execution_count": 59,
   "id": "18d05158-b89b-4781-a924-00d28e026b7f",
   "metadata": {},
   "outputs": [
    {
     "name": "stdout",
     "output_type": "stream",
     "text": [
      "              precision    recall  f1-score   support\n",
      "\n",
      "    negative       0.73      0.72      0.72       472\n",
      "     neutral       0.71      0.70      0.71       620\n",
      "    positive       0.73      0.75      0.74       473\n",
      "\n",
      "    accuracy                           0.72      1565\n",
      "   macro avg       0.72      0.72      0.72      1565\n",
      "weighted avg       0.72      0.72      0.72      1565\n",
      "\n",
      "Total Weighted F1 Score: 0.7200333019704714\n"
     ]
    }
   ],
   "source": [
    "target_names = [target_name.split('_')[1] for target_name in one_hot_encoder.get_feature_names_out()]\n",
    "print(classification_report(y_test_evaluate, predictions_evaluate, target_names=target_names))\n",
    "\n",
    "print('Total Weighted F1 Score:', f1_score(y_test_evaluate, predictions_evaluate, average='weighted'))"
   ]
  },
  {
   "cell_type": "markdown",
   "id": "c6cab950-5dc2-4c2f-8ebc-ebb7a7fb2efd",
   "metadata": {},
   "source": [
    "The classification report evaluates the performance of a model on a multi-class classification task. The model achieves an overall accuracy of 72%, indicating that it correctly classifies 72% of the instances. The precision, recall, and F1-score for each class vary slightly, with values ranging from 0.70 to 0.75. This suggests that the model demonstrates a reasonable ability to correctly identify positive instances, but there is room for improvement in accurately classifying instances across all classes.\n",
    "\n",
    "The weighted average F1-score, which takes into account the class distribution, is 0.72. This indicates the overall effectiveness of the model in achieving a balance between precision and recall for the entire dataset.\n",
    "\n",
    "It is important to consider the specific context of the classification task and the relative importance of precision and recall for the application at hand. Further analysis and improvement efforts may be required to enhance the model's performance, particularly in achieving higher precision and recall values for individual classes.\n",
    "\n",
    "Overall, the classification report provides insights into the model's performance and highlights areas that can be further optimized to enhance its accuracy and effectiveness in classifying instances."
   ]
  },
  {
   "cell_type": "markdown",
   "id": "ee91df5e-754e-482c-8c9d-e40f0efefa84",
   "metadata": {},
   "source": [
    "The model can be improved by taking several actions such as by using hyperparameter tuning, model selection, or increase the training data. "
   ]
  },
  {
   "cell_type": "markdown",
   "id": "bd8add61-c097-4c03-9018-0670a455648d",
   "metadata": {},
   "source": [
    "# Testing the model for new text"
   ]
  },
  {
   "cell_type": "code",
   "execution_count": 60,
   "id": "9b1d3a5e-6509-4550-834a-67c1c36c9c4e",
   "metadata": {},
   "outputs": [],
   "source": [
    "# Create a new string \n",
    "string = ['@AmericanAir thank you we got on a different flight to Chicago.']"
   ]
  },
  {
   "cell_type": "code",
   "execution_count": 61,
   "id": "9110950c-bba3-4fb5-8754-a4970782c127",
   "metadata": {},
   "outputs": [],
   "source": [
    "# Clean the new string\n",
    "cleaned_string = clean(string)\n",
    "\n",
    "# Encode all words in the string\n",
    "encoded_string = tokenizer.texts_to_sequences([cleaned_string])\n",
    "\n",
    "# Add zero padding such that the string will be having the length of 500 words\n",
    "encoded_string = sequence.pad_sequences(encoded_string, maxlen=500)"
   ]
  },
  {
   "cell_type": "code",
   "execution_count": 62,
   "id": "1713d00d-81e9-45b4-bbdb-b9aa7ce6964c",
   "metadata": {},
   "outputs": [
    {
     "name": "stdout",
     "output_type": "stream",
     "text": [
      "1/1 [==============================] - 0s 250ms/step\n",
      "positive\n"
     ]
    }
   ],
   "source": [
    "# Predict string class\n",
    "string_predict = model.predict(encoded_string)\n",
    "print(str(one_hot_encoder.inverse_transform(string_predict).item()))"
   ]
  },
  {
   "cell_type": "code",
   "execution_count": null,
   "id": "ac4fe59c-deee-4c14-8d03-af62e2ba43f4",
   "metadata": {},
   "outputs": [],
   "source": []
  }
 ],
 "metadata": {
  "kernelspec": {
   "display_name": "Python 3 (ipykernel)",
   "language": "python",
   "name": "python3"
  },
  "language_info": {
   "codemirror_mode": {
    "name": "ipython",
    "version": 3
   },
   "file_extension": ".py",
   "mimetype": "text/x-python",
   "name": "python",
   "nbconvert_exporter": "python",
   "pygments_lexer": "ipython3",
   "version": "3.10.9"
  }
 },
 "nbformat": 4,
 "nbformat_minor": 5
}
